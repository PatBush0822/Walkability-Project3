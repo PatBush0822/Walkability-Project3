{
 "cells": [
  {
   "cell_type": "code",
   "execution_count": 18,
   "id": "09e8b020",
   "metadata": {},
   "outputs": [],
   "source": [
    "import pandas as pd\n",
    "import requests\n",
    "import json\n",
    "from config import api_key\n",
    "api_format = \"json\""
   ]
  },
  {
   "cell_type": "code",
   "execution_count": 22,
   "id": "6ad5131c",
   "metadata": {},
   "outputs": [],
   "source": [
    "# Set API endpoint and parameters\n",
    "url = 'https://api.openweathermap.org/data/2.5/weather'\n",
    "params = {\n",
    "   # Type any city in the 'q' variable and rerun code for new city\n",
    "    'q': 'Cleveland', \n",
    "    'appid': api_key,\n",
    "    'units': 'metric'\n",
    "}"
   ]
  },
  {
   "cell_type": "code",
   "execution_count": 23,
   "id": "d616317d",
   "metadata": {},
   "outputs": [],
   "source": [
    "# Make HTTP request and retrieve JSON data\n",
    "response = requests.get(url, params=params)\n",
    "data = response.json()"
   ]
  },
  {
   "cell_type": "code",
   "execution_count": 24,
   "id": "fadad2c7",
   "metadata": {},
   "outputs": [
    {
     "data": {
      "text/plain": [
       "{'coord': {'lon': -81.6954, 'lat': 41.4995},\n",
       " 'weather': [{'id': 804,\n",
       "   'main': 'Clouds',\n",
       "   'description': 'overcast clouds',\n",
       "   'icon': '04d'}],\n",
       " 'base': 'stations',\n",
       " 'main': {'temp': 4.37,\n",
       "  'feels_like': 1.02,\n",
       "  'temp_min': 2.62,\n",
       "  'temp_max': 6.05,\n",
       "  'pressure': 1021,\n",
       "  'humidity': 88},\n",
       " 'visibility': 10000,\n",
       " 'wind': {'speed': 4.12, 'deg': 250},\n",
       " 'clouds': {'all': 100},\n",
       " 'dt': 1682349253,\n",
       " 'sys': {'type': 1,\n",
       "  'id': 3455,\n",
       "  'country': 'US',\n",
       "  'sunrise': 1682332416,\n",
       "  'sunset': 1682381757},\n",
       " 'timezone': -14400,\n",
       " 'id': 5150529,\n",
       " 'name': 'Cleveland',\n",
       " 'cod': 200}"
      ]
     },
     "execution_count": 24,
     "metadata": {},
     "output_type": "execute_result"
    }
   ],
   "source": [
    "data"
   ]
  },
  {
   "cell_type": "code",
   "execution_count": 25,
   "id": "54657264",
   "metadata": {},
   "outputs": [],
   "source": [
    "# Extract heat index from JSON data\n",
    "heat_index = data['main']['feels_like']"
   ]
  },
  {
   "cell_type": "code",
   "execution_count": 26,
   "id": "b161d3f9",
   "metadata": {},
   "outputs": [],
   "source": [
    "# Create a DataFrame with the heat index data\n",
    "df = pd.DataFrame({'heat_index': [heat_index]})"
   ]
  },
  {
   "cell_type": "code",
   "execution_count": 27,
   "id": "d03dc491",
   "metadata": {},
   "outputs": [
    {
     "name": "stdout",
     "output_type": "stream",
     "text": [
      "   heat_index\n",
      "0        1.02\n"
     ]
    }
   ],
   "source": [
    "# Display the DataFrame\n",
    "print(df)"
   ]
  },
  {
   "cell_type": "code",
   "execution_count": null,
   "id": "bc46bc65",
   "metadata": {},
   "outputs": [],
   "source": []
  },
  {
   "cell_type": "code",
   "execution_count": 28,
   "id": "4d9314a3",
   "metadata": {},
   "outputs": [],
   "source": [
    "import seaborn as sns\n",
    "import matplotlib.pyplot as plt"
   ]
  },
  {
   "cell_type": "code",
   "execution_count": 29,
   "id": "3e891b59",
   "metadata": {},
   "outputs": [],
   "source": [
    "# Create a dataframe with heat index data\n",
    "data = {'City': ['Baltimore', 'Detroit', 'Boston', 'Cleveland'],\n",
    "        'Heat Index': [64.535, 63.14, 64.85, 58.73, ]}\n",
    "df = pd.DataFrame(data)"
   ]
  },
  {
   "cell_type": "code",
   "execution_count": 30,
   "id": "df3847ae",
   "metadata": {},
   "outputs": [
    {
     "data": {
      "text/plain": [
       "<matplotlib.axes._subplots.AxesSubplot at 0x7fe24363e3d0>"
      ]
     },
     "execution_count": 30,
     "metadata": {},
     "output_type": "execute_result"
    },
    {
     "data": {
      "image/png": "[encoded data removed]",
      "text/plain": [
       "<Figure size 432x288 with 2 Axes>"
      ]
     },
     "metadata": {},
     "output_type": "display_data"
    }
   ],
   "source": [
    "# Create a heat map using Seaborn\n",
    "sns.set(font_scale=1.2)\n",
    "sns.heatmap(data=df.pivot_table(index='City', values='Heat Index'), cmap='YlOrRd')"
   ]
  },
  {
   "cell_type": "code",
   "execution_count": null,
   "id": "e7e8ad0d",
   "metadata": {},
   "outputs": [],
   "source": []
  },
  {
   "cell_type": "code",
   "execution_count": null,
   "id": "fda56b7d",
   "metadata": {},
   "outputs": [],
   "source": []
  },
  {
   "cell_type": "code",
   "execution_count": null,
   "id": "36ac27d5",
   "metadata": {},
   "outputs": [],
   "source": []
  }
 ],
 "metadata": {
  "kernelspec": {
   "display_name": "PythonData",
   "language": "python",
   "name": "pythondata"
  },
  "language_info": {
   "codemirror_mode": {
    "name": "ipython",
    "version": 3
   },
   "file_extension": ".py",
   "mimetype": "text/x-python",
   "name": "python",
   "nbconvert_exporter": "python",
   "pygments_lexer": "ipython3",
   "version": "3.7.7"
  }
 },
 "nbformat": 4,
 "nbformat_minor": 5
}
